{
 "cells": [
  {
   "cell_type": "markdown",
   "id": "8df6ae55-4ea3-4766-8e82-8d7dccf0cf01",
   "metadata": {},
   "source": [
    "Consider following code to answer further questions:\n",
    " import pandas as pd\n",
    "\n",
    "course_name = [‘Data Science’, ‘Machine Learning’, ‘Big Data’, ‘Data Engineer’]\n",
    " duration =  [2,3,6,4]\n",
    "\n",
    "df = pd.DataFrame(data = {‘course_name’ : course_name, ‘duration’ : duration})\n",
    "\n",
    "\n",
    "Q1. Write a code to print the data present in the second row of the dataframe, df.\n"
   ]
  },
  {
   "cell_type": "code",
   "execution_count": 3,
   "id": "603f9764-92d2-492b-803e-203a1e32b443",
   "metadata": {},
   "outputs": [],
   "source": [
    "import pandas as pd"
   ]
  },
  {
   "cell_type": "code",
   "execution_count": 4,
   "id": "03d10f94-3f12-4239-8bd0-99a606b31e7c",
   "metadata": {},
   "outputs": [],
   "source": [
    "course_name ={\"Data Science\":[2],\n",
    "             \"Machine Learning\":[3],\n",
    "             \"Big Data\" : [6],\n",
    "             \"Data Engineer\": [4]}"
   ]
  },
  {
   "cell_type": "code",
   "execution_count": 5,
   "id": "fc9608a0-6641-4db7-8647-3d2051450e8e",
   "metadata": {},
   "outputs": [
    {
     "data": {
      "text/html": [
       "<div>\n",
       "<style scoped>\n",
       "    .dataframe tbody tr th:only-of-type {\n",
       "        vertical-align: middle;\n",
       "    }\n",
       "\n",
       "    .dataframe tbody tr th {\n",
       "        vertical-align: top;\n",
       "    }\n",
       "\n",
       "    .dataframe thead th {\n",
       "        text-align: right;\n",
       "    }\n",
       "</style>\n",
       "<table border=\"1\" class=\"dataframe\">\n",
       "  <thead>\n",
       "    <tr style=\"text-align: right;\">\n",
       "      <th></th>\n",
       "      <th>Data Science</th>\n",
       "      <th>Machine Learning</th>\n",
       "      <th>Big Data</th>\n",
       "      <th>Data Engineer</th>\n",
       "    </tr>\n",
       "  </thead>\n",
       "  <tbody>\n",
       "    <tr>\n",
       "      <th>0</th>\n",
       "      <td>2</td>\n",
       "      <td>3</td>\n",
       "      <td>6</td>\n",
       "      <td>4</td>\n",
       "    </tr>\n",
       "  </tbody>\n",
       "</table>\n",
       "</div>"
      ],
      "text/plain": [
       "   Data Science  Machine Learning  Big Data  Data Engineer\n",
       "0             2                 3         6              4"
      ]
     },
     "execution_count": 5,
     "metadata": {},
     "output_type": "execute_result"
    }
   ],
   "source": [
    "pd.DataFrame(course_name)"
   ]
  },
  {
   "cell_type": "markdown",
   "id": "bd9f74e1-f74d-47c3-bba6-0acb23d0d1ba",
   "metadata": {},
   "source": [
    "Q2. What is the difference between the functions loc and iloc in pandas.DataFrame?\n"
   ]
  },
  {
   "cell_type": "markdown",
   "id": "3dab3963-7ab0-4cd9-9821-2dfb5d2545b7",
   "metadata": {},
   "source": [
    "different between loc and iloc in pandas are following.\n",
    "\n",
    "loc:- it frame the char.values and slicing operation.\n",
    "iloc:- it frame the only int.value and slicing operation."
   ]
  },
  {
   "cell_type": "markdown",
   "id": "eddbbb4b-7df5-4045-94b4-ef7638c1f9e4",
   "metadata": {},
   "source": [
    "3.Reindex the given dataframe using a variable, reindex = [3,0,1,2] and store it in the variable, new_df then find the output for both new_df.loc[2] and new_df.iloc[2]."
   ]
  },
  {
   "cell_type": "code",
   "execution_count": 3,
   "id": "5a174540-d771-4c48-b36b-74374006badd",
   "metadata": {},
   "outputs": [
    {
     "name": "stdout",
     "output_type": "stream",
     "text": [
      "Collecting lxml\n",
      "  Downloading lxml-4.9.2-cp310-cp310-manylinux_2_17_x86_64.manylinux2014_x86_64.manylinux_2_24_x86_64.whl (7.1 MB)\n",
      "\u001b[2K     \u001b[90m━━━━━━━━━━━━━━━━━━━━━━━━━━━━━━━━━━━━━━━━\u001b[0m \u001b[32m7.1/7.1 MB\u001b[0m \u001b[31m74.2 MB/s\u001b[0m eta \u001b[36m0:00:00\u001b[0m:00:01\u001b[0m0:01\u001b[0m\n",
      "\u001b[?25hInstalling collected packages: lxml\n",
      "Successfully installed lxml-4.9.2\n",
      "Note: you may need to restart the kernel to use updated packages.\n"
     ]
    }
   ],
   "source": [
    "pip install lxml"
   ]
  },
  {
   "cell_type": "code",
   "execution_count": 2,
   "id": "b01fac16-532e-418b-aae3-ce7243cddef9",
   "metadata": {},
   "outputs": [],
   "source": [
    "import lxml\n",
    "import pandas as pd\n"
   ]
  },
  {
   "cell_type": "code",
   "execution_count": 9,
   "id": "f455d1bb-c024-410d-934f-210402367f47",
   "metadata": {},
   "outputs": [],
   "source": [
    "df=pd.read_csv(\"excel-sheelt.csv\")"
   ]
  },
  {
   "cell_type": "code",
   "execution_count": 10,
   "id": "7efef801-21cd-47ce-aee1-5d2489750009",
   "metadata": {},
   "outputs": [
    {
     "data": {
      "text/plain": [
       "pandas.core.frame.DataFrame"
      ]
     },
     "execution_count": 10,
     "metadata": {},
     "output_type": "execute_result"
    }
   ],
   "source": [
    "type(df)"
   ]
  },
  {
   "cell_type": "code",
   "execution_count": 11,
   "id": "19428971-3e7d-4c4e-942e-815504fe44c3",
   "metadata": {},
   "outputs": [
    {
     "data": {
      "text/html": [
       "<div>\n",
       "<style scoped>\n",
       "    .dataframe tbody tr th:only-of-type {\n",
       "        vertical-align: middle;\n",
       "    }\n",
       "\n",
       "    .dataframe tbody tr th {\n",
       "        vertical-align: top;\n",
       "    }\n",
       "\n",
       "    .dataframe thead th {\n",
       "        text-align: right;\n",
       "    }\n",
       "</style>\n",
       "<table border=\"1\" class=\"dataframe\">\n",
       "  <thead>\n",
       "    <tr style=\"text-align: right;\">\n",
       "      <th></th>\n",
       "      <th></th>\n",
       "      <th></th>\n",
       "      <th></th>\n",
       "      <th></th>\n",
       "      <th></th>\n",
       "      <th></th>\n",
       "      <th></th>\n",
       "      <th></th>\n",
       "      <th></th>\n",
       "      <th></th>\n",
       "      <th></th>\n",
       "      <th></th>\n",
       "      <th></th>\n",
       "      <th></th>\n",
       "      <th></th>\n",
       "      <th></th>\n",
       "      <th></th>\n",
       "      <th></th>\n",
       "      <th></th>\n",
       "      <th></th>\n",
       "      <th></th>\n",
       "      <th></th>\n",
       "      <th></th>\n",
       "      <th></th>\n",
       "      <th></th>\n",
       "      <th></th>\n",
       "      <th></th>\n",
       "      <th>sep=</th>\n",
       "      <th>Unnamed: 1</th>\n",
       "    </tr>\n",
       "  </thead>\n",
       "  <tbody>\n",
       "    <tr>\n",
       "      <th>Circle</th>\n",
       "      <th>Sitetype</th>\n",
       "      <th>Network Type</th>\n",
       "      <th>Alarming OpCo</th>\n",
       "      <th>Site Name</th>\n",
       "      <th>Site ID</th>\n",
       "      <th>Alarm Name</th>\n",
       "      <th>Alarm Text</th>\n",
       "      <th>Start Time</th>\n",
       "      <th>OSS Time</th>\n",
       "      <th>Event Time</th>\n",
       "      <th>Work Log</th>\n",
       "      <th>Area</th>\n",
       "      <th>Tech No</th>\n",
       "      <th>Fse Mobile</th>\n",
       "      <th>Config ID</th>\n",
       "      <th>Toc Site Priority</th>\n",
       "      <th>Alarm Identifier</th>\n",
       "      <th>PM Flag</th>\n",
       "      <th>Outage cause</th>\n",
       "      <th>Outage info</th>\n",
       "      <th>OME Partner</th>\n",
       "      <th>Tech Name</th>\n",
       "      <th>Fse Name</th>\n",
       "      <th>Tech Manager</th>\n",
       "      <th>Techn Manager No</th>\n",
       "      <th>Anchor Opco</th>\n",
       "      <th>Telecom Vendor</th>\n",
       "      <td>TT Details</td>\n",
       "      <td>Logic Id</td>\n",
       "    </tr>\n",
       "    <tr>\n",
       "      <th>Rest of West Bengal</th>\n",
       "      <th>Non-Strategic</th>\n",
       "      <th>4G</th>\n",
       "      <th>Airtel</th>\n",
       "      <th>BCF_62_Balarampur_ARTL_4G</th>\n",
       "      <th>IN-1256117</th>\n",
       "      <th>Low Battery Voltage</th>\n",
       "      <th>LOW DC</th>\n",
       "      <th>2022-11-15 12:23:27</th>\n",
       "      <th>2022-11-15 12:23:22</th>\n",
       "      <th>2022-11-15 12:23:22</th>\n",
       "      <th>NaN</th>\n",
       "      <th>Malda &amp; Dinajpur</th>\n",
       "      <th>9609001103</th>\n",
       "      <th>8945556151</th>\n",
       "      <th>MRBTS-65795</th>\n",
       "      <th>10.NORMAL SITE</th>\n",
       "      <th>6957117</th>\n",
       "      <th>PM-OFF</th>\n",
       "      <th>NaN</th>\n",
       "      <th>NaN</th>\n",
       "      <th>NIPL</th>\n",
       "      <th>Sahajan Ali</th>\n",
       "      <th>Others - 869769 Titan Mallik</th>\n",
       "      <th>Niladri Karmakar</th>\n",
       "      <th>9051619116</th>\n",
       "      <th>Vodafone</th>\n",
       "      <th>NSN-eNodeB</th>\n",
       "      <td>NaN</td>\n",
       "      <td>NSN_AIRTEL_KOL_ROWB_DUO4_10_131_29_137_MRBTS-6...</td>\n",
       "    </tr>\n",
       "  </tbody>\n",
       "</table>\n",
       "</div>"
      ],
      "text/plain": [
       "                                                                                                                                                                                                                                                                                                                                                                                                                                                      sep=  \\\n",
       "Circle              Sitetype      Network Type Alarming OpCo Site Name                 Site ID    Alarm Name          Alarm Text Start Time          OSS Time            Event Time          Work Log Area             Tech No    Fse Mobile Config ID   Toc Site Priority Alarm Identifier PM Flag Outage cause Outage info OME Partner Tech Name   Fse Name                     Tech Manager     Techn Manager No Anchor Opco Telecom Vendor  TT Details   \n",
       "Rest of West Bengal Non-Strategic 4G           Airtel        BCF_62_Balarampur_ARTL_4G IN-1256117 Low Battery Voltage LOW DC     2022-11-15 12:23:27 2022-11-15 12:23:22 2022-11-15 12:23:22 NaN      Malda & Dinajpur 9609001103 8945556151 MRBTS-65795 10.NORMAL SITE    6957117          PM-OFF  NaN          NaN         NIPL        Sahajan Ali Others - 869769 Titan Mallik Niladri Karmakar 9051619116       Vodafone    NSN-eNodeB             NaN   \n",
       "\n",
       "                                                                                                                                                                                                                                                                                                                                                                                                                                                                                       Unnamed: 1  \n",
       "Circle              Sitetype      Network Type Alarming OpCo Site Name                 Site ID    Alarm Name          Alarm Text Start Time          OSS Time            Event Time          Work Log Area             Tech No    Fse Mobile Config ID   Toc Site Priority Alarm Identifier PM Flag Outage cause Outage info OME Partner Tech Name   Fse Name                     Tech Manager     Techn Manager No Anchor Opco Telecom Vendor                                           Logic Id  \n",
       "Rest of West Bengal Non-Strategic 4G           Airtel        BCF_62_Balarampur_ARTL_4G IN-1256117 Low Battery Voltage LOW DC     2022-11-15 12:23:27 2022-11-15 12:23:22 2022-11-15 12:23:22 NaN      Malda & Dinajpur 9609001103 8945556151 MRBTS-65795 10.NORMAL SITE    6957117          PM-OFF  NaN          NaN         NIPL        Sahajan Ali Others - 869769 Titan Mallik Niladri Karmakar 9051619116       Vodafone    NSN-eNodeB      NSN_AIRTEL_KOL_ROWB_DUO4_10_131_29_137_MRBTS-6...  "
      ]
     },
     "execution_count": 11,
     "metadata": {},
     "output_type": "execute_result"
    }
   ],
   "source": [
    "df.head(2)"
   ]
  },
  {
   "cell_type": "code",
   "execution_count": 12,
   "id": "434c77f0-abbb-4ff8-a094-ca128e92fbab",
   "metadata": {},
   "outputs": [
    {
     "data": {
      "text/plain": [
       "sep=          object\n",
       "Unnamed: 1    object\n",
       "dtype: object"
      ]
     },
     "execution_count": 12,
     "metadata": {},
     "output_type": "execute_result"
    }
   ],
   "source": [
    "df.dtypes"
   ]
  },
  {
   "cell_type": "code",
   "execution_count": 13,
   "id": "fe06e452-9b24-42c2-a8dc-1248a13d42fb",
   "metadata": {},
   "outputs": [
    {
     "data": {
      "text/plain": [
       "pandas.core.series.Series"
      ]
     },
     "execution_count": 13,
     "metadata": {},
     "output_type": "execute_result"
    }
   ],
   "source": [
    "type(df.dtypes)"
   ]
  },
  {
   "cell_type": "code",
   "execution_count": 15,
   "id": "49d36381-8622-4bfb-b553-3a7f04869bb1",
   "metadata": {},
   "outputs": [
    {
     "data": {
      "text/plain": [
       "sep=          True\n",
       "Unnamed: 1    True\n",
       "dtype: bool"
      ]
     },
     "execution_count": 15,
     "metadata": {},
     "output_type": "execute_result"
    }
   ],
   "source": [
    "df.dtypes=='object'"
   ]
  },
  {
   "cell_type": "code",
   "execution_count": 17,
   "id": "8c9297f7-55c0-4b24-86fd-7812c8dfa9c3",
   "metadata": {},
   "outputs": [
    {
     "data": {
      "text/plain": [
       "sep=          object\n",
       "Unnamed: 1    object\n",
       "dtype: object"
      ]
     },
     "execution_count": 17,
     "metadata": {},
     "output_type": "execute_result"
    }
   ],
   "source": [
    "df.dtypes[df.dtypes=='object']"
   ]
  },
  {
   "cell_type": "code",
   "execution_count": 19,
   "id": "ee575d86-4383-4c39-89cd-bcee6b3bdd65",
   "metadata": {},
   "outputs": [
    {
     "data": {
      "text/plain": [
       "Index(['sep=', 'Unnamed: 1'], dtype='object')"
      ]
     },
     "execution_count": 19,
     "metadata": {},
     "output_type": "execute_result"
    }
   ],
   "source": [
    "df.dtypes[df.dtypes=='object'].index"
   ]
  },
  {
   "cell_type": "code",
   "execution_count": 21,
   "id": "98d94348-1a0d-4cc8-acc7-45f2aa4eb799",
   "metadata": {},
   "outputs": [
    {
     "data": {
      "text/html": [
       "<div>\n",
       "<style scoped>\n",
       "    .dataframe tbody tr th:only-of-type {\n",
       "        vertical-align: middle;\n",
       "    }\n",
       "\n",
       "    .dataframe tbody tr th {\n",
       "        vertical-align: top;\n",
       "    }\n",
       "\n",
       "    .dataframe thead th {\n",
       "        text-align: right;\n",
       "    }\n",
       "</style>\n",
       "<table border=\"1\" class=\"dataframe\">\n",
       "  <thead>\n",
       "    <tr style=\"text-align: right;\">\n",
       "      <th></th>\n",
       "      <th></th>\n",
       "      <th></th>\n",
       "      <th></th>\n",
       "      <th></th>\n",
       "      <th></th>\n",
       "      <th></th>\n",
       "      <th></th>\n",
       "      <th></th>\n",
       "      <th></th>\n",
       "      <th></th>\n",
       "      <th></th>\n",
       "      <th></th>\n",
       "      <th></th>\n",
       "      <th></th>\n",
       "      <th></th>\n",
       "      <th></th>\n",
       "      <th></th>\n",
       "      <th></th>\n",
       "      <th></th>\n",
       "      <th></th>\n",
       "      <th></th>\n",
       "      <th></th>\n",
       "      <th></th>\n",
       "      <th></th>\n",
       "      <th></th>\n",
       "      <th></th>\n",
       "      <th></th>\n",
       "      <th>sep=</th>\n",
       "      <th>Unnamed: 1</th>\n",
       "    </tr>\n",
       "  </thead>\n",
       "  <tbody>\n",
       "    <tr>\n",
       "      <th>Circle</th>\n",
       "      <th>Sitetype</th>\n",
       "      <th>Network Type</th>\n",
       "      <th>Alarming OpCo</th>\n",
       "      <th>Site Name</th>\n",
       "      <th>Site ID</th>\n",
       "      <th>Alarm Name</th>\n",
       "      <th>Alarm Text</th>\n",
       "      <th>Start Time</th>\n",
       "      <th>OSS Time</th>\n",
       "      <th>Event Time</th>\n",
       "      <th>Work Log</th>\n",
       "      <th>Area</th>\n",
       "      <th>Tech No</th>\n",
       "      <th>Fse Mobile</th>\n",
       "      <th>Config ID</th>\n",
       "      <th>Toc Site Priority</th>\n",
       "      <th>Alarm Identifier</th>\n",
       "      <th>PM Flag</th>\n",
       "      <th>Outage cause</th>\n",
       "      <th>Outage info</th>\n",
       "      <th>OME Partner</th>\n",
       "      <th>Tech Name</th>\n",
       "      <th>Fse Name</th>\n",
       "      <th>Tech Manager</th>\n",
       "      <th>Techn Manager No</th>\n",
       "      <th>Anchor Opco</th>\n",
       "      <th>Telecom Vendor</th>\n",
       "      <td>TT Details</td>\n",
       "      <td>Logic Id</td>\n",
       "    </tr>\n",
       "    <tr>\n",
       "      <th>Rest of West Bengal</th>\n",
       "      <th>Non-Strategic</th>\n",
       "      <th>4G</th>\n",
       "      <th>Airtel</th>\n",
       "      <th>BCF_62_Balarampur_ARTL_4G</th>\n",
       "      <th>IN-1256117</th>\n",
       "      <th>Low Battery Voltage</th>\n",
       "      <th>LOW DC</th>\n",
       "      <th>2022-11-15 12:23:27</th>\n",
       "      <th>2022-11-15 12:23:22</th>\n",
       "      <th>2022-11-15 12:23:22</th>\n",
       "      <th>NaN</th>\n",
       "      <th>Malda &amp; Dinajpur</th>\n",
       "      <th>9609001103</th>\n",
       "      <th>8945556151</th>\n",
       "      <th>MRBTS-65795</th>\n",
       "      <th>10.NORMAL SITE</th>\n",
       "      <th>6957117</th>\n",
       "      <th>PM-OFF</th>\n",
       "      <th>NaN</th>\n",
       "      <th>NaN</th>\n",
       "      <th>NIPL</th>\n",
       "      <th>Sahajan Ali</th>\n",
       "      <th>Others - 869769 Titan Mallik</th>\n",
       "      <th>Niladri Karmakar</th>\n",
       "      <th>9051619116</th>\n",
       "      <th>Vodafone</th>\n",
       "      <th>NSN-eNodeB</th>\n",
       "      <td>NaN</td>\n",
       "      <td>NSN_AIRTEL_KOL_ROWB_DUO4_10_131_29_137_MRBTS-6...</td>\n",
       "    </tr>\n",
       "    <tr>\n",
       "      <th>Kolkata</th>\n",
       "      <th>Non-Strategic</th>\n",
       "      <th>4G</th>\n",
       "      <th>Airtel</th>\n",
       "      <th>Bangabasi_College_ZTE_4G</th>\n",
       "      <th>IN-1073048</th>\n",
       "      <th>Low Battery Voltage</th>\n",
       "      <th>LOW BATTERY VOLTAGE</th>\n",
       "      <th>2022-11-15 12:22:43</th>\n",
       "      <th>2022-11-15 12:22:27</th>\n",
       "      <th>2022-11-15 12:22:27</th>\n",
       "      <th>CNT_TOC_EAST_D_NK_ESC_TECH_ack</th>\n",
       "      <th>Kolkata -1</th>\n",
       "      <th>9007023025</th>\n",
       "      <th>9933499072</th>\n",
       "      <th>rns1012_KO_E_F_OM_BBCL</th>\n",
       "      <th>10.NORMAL SITE</th>\n",
       "      <th>1099441</th>\n",
       "      <th>PM-ON</th>\n",
       "      <th>NaN</th>\n",
       "      <th>NaN</th>\n",
       "      <th>Technocon</th>\n",
       "      <th>Sankar Saha</th>\n",
       "      <th>Others - 865507 Anup Mondal</th>\n",
       "      <th>Kallol Mishra</th>\n",
       "      <th>9163399755</th>\n",
       "      <th>Airtel</th>\n",
       "      <th>ZTE-eNodeB</th>\n",
       "      <td>NaN</td>\n",
       "      <td>ZTE_AIRTEL_KOL_ROWB_DUO02_10_193_97_229_rns101...</td>\n",
       "    </tr>\n",
       "  </tbody>\n",
       "</table>\n",
       "</div>"
      ],
      "text/plain": [
       "                                                                                                                                                                                                                                                                                                                                                                                                                                                                                                sep=  \\\n",
       "Circle              Sitetype      Network Type Alarming OpCo Site Name                 Site ID    Alarm Name          Alarm Text          Start Time          OSS Time            Event Time          Work Log                       Area             Tech No    Fse Mobile Config ID              Toc Site Priority Alarm Identifier PM Flag Outage cause Outage info OME Partner Tech Name   Fse Name                     Tech Manager     Techn Manager No Anchor Opco Telecom Vendor  TT Details   \n",
       "Rest of West Bengal Non-Strategic 4G           Airtel        BCF_62_Balarampur_ARTL_4G IN-1256117 Low Battery Voltage LOW DC              2022-11-15 12:23:27 2022-11-15 12:23:22 2022-11-15 12:23:22 NaN                            Malda & Dinajpur 9609001103 8945556151 MRBTS-65795            10.NORMAL SITE    6957117          PM-OFF  NaN          NaN         NIPL        Sahajan Ali Others - 869769 Titan Mallik Niladri Karmakar 9051619116       Vodafone    NSN-eNodeB             NaN   \n",
       "Kolkata             Non-Strategic 4G           Airtel        Bangabasi_College_ZTE_4G  IN-1073048 Low Battery Voltage LOW BATTERY VOLTAGE 2022-11-15 12:22:43 2022-11-15 12:22:27 2022-11-15 12:22:27 CNT_TOC_EAST_D_NK_ESC_TECH_ack Kolkata -1       9007023025 9933499072 rns1012_KO_E_F_OM_BBCL 10.NORMAL SITE    1099441          PM-ON   NaN          NaN         Technocon   Sankar Saha Others - 865507 Anup Mondal  Kallol Mishra    9163399755       Airtel      ZTE-eNodeB             NaN   \n",
       "\n",
       "                                                                                                                                                                                                                                                                                                                                                                                                                                                                                                                                 Unnamed: 1  \n",
       "Circle              Sitetype      Network Type Alarming OpCo Site Name                 Site ID    Alarm Name          Alarm Text          Start Time          OSS Time            Event Time          Work Log                       Area             Tech No    Fse Mobile Config ID              Toc Site Priority Alarm Identifier PM Flag Outage cause Outage info OME Partner Tech Name   Fse Name                     Tech Manager     Techn Manager No Anchor Opco Telecom Vendor                                           Logic Id  \n",
       "Rest of West Bengal Non-Strategic 4G           Airtel        BCF_62_Balarampur_ARTL_4G IN-1256117 Low Battery Voltage LOW DC              2022-11-15 12:23:27 2022-11-15 12:23:22 2022-11-15 12:23:22 NaN                            Malda & Dinajpur 9609001103 8945556151 MRBTS-65795            10.NORMAL SITE    6957117          PM-OFF  NaN          NaN         NIPL        Sahajan Ali Others - 869769 Titan Mallik Niladri Karmakar 9051619116       Vodafone    NSN-eNodeB      NSN_AIRTEL_KOL_ROWB_DUO4_10_131_29_137_MRBTS-6...  \n",
       "Kolkata             Non-Strategic 4G           Airtel        Bangabasi_College_ZTE_4G  IN-1073048 Low Battery Voltage LOW BATTERY VOLTAGE 2022-11-15 12:22:43 2022-11-15 12:22:27 2022-11-15 12:22:27 CNT_TOC_EAST_D_NK_ESC_TECH_ack Kolkata -1       9007023025 9933499072 rns1012_KO_E_F_OM_BBCL 10.NORMAL SITE    1099441          PM-ON   NaN          NaN         Technocon   Sankar Saha Others - 865507 Anup Mondal  Kallol Mishra    9163399755       Airtel      ZTE-eNodeB      ZTE_AIRTEL_KOL_ROWB_DUO02_10_193_97_229_rns101...  "
      ]
     },
     "execution_count": 21,
     "metadata": {},
     "output_type": "execute_result"
    }
   ],
   "source": [
    "df[df.dtypes[df.dtypes=='object'].index]"
   ]
  },
  {
   "cell_type": "markdown",
   "id": "adc31e15-bd42-4700-be1c-131da709de1a",
   "metadata": {},
   "source": [
    "Consider the below code to answer further questions: import pandas as pd import numpy as np\n",
    "\n",
    "columns = ['column_1', 'column_2', 'column_3', 'column_4', 'column_5', 'column_6'] indices = [1,2,3,4,5,6]\n",
    "\n",
    "#Creating a dataframe:\n",
    "\n",
    "df1 = pd.DataFrame(np.random.rand(6,6), columns = columns, index = indices)"
   ]
  },
  {
   "cell_type": "markdown",
   "id": "80110a4a-00d7-41aa-a334-6b81d16b5dad",
   "metadata": {},
   "source": [
    "Q4. Write a code to find the following statistical measurements for the above dataframe df1:\n",
    "\n",
    "(i)  mean of each and every column present in the dataframe.\n",
    "(ii) standard deviation of column, ‘column_2’\n",
    "\n"
   ]
  },
  {
   "cell_type": "code",
   "execution_count": 33,
   "id": "81c3c439-db0c-4fc7-a23e-2e7cb4e8f714",
   "metadata": {},
   "outputs": [],
   "source": [
    "import numpy as np"
   ]
  },
  {
   "cell_type": "code",
   "execution_count": 37,
   "id": "17e72fde-91e5-4c38-a8e8-f3ac315ca1f8",
   "metadata": {},
   "outputs": [],
   "source": [
    "df1=np.random.rand(6,6)"
   ]
  },
  {
   "cell_type": "code",
   "execution_count": 48,
   "id": "dc25616f-17c2-4d5c-8650-a6e3ed0ce3af",
   "metadata": {},
   "outputs": [
    {
     "data": {
      "text/html": [
       "<div>\n",
       "<style scoped>\n",
       "    .dataframe tbody tr th:only-of-type {\n",
       "        vertical-align: middle;\n",
       "    }\n",
       "\n",
       "    .dataframe tbody tr th {\n",
       "        vertical-align: top;\n",
       "    }\n",
       "\n",
       "    .dataframe thead th {\n",
       "        text-align: right;\n",
       "    }\n",
       "</style>\n",
       "<table border=\"1\" class=\"dataframe\">\n",
       "  <thead>\n",
       "    <tr style=\"text-align: right;\">\n",
       "      <th></th>\n",
       "      <th>0</th>\n",
       "      <th>1</th>\n",
       "      <th>2</th>\n",
       "      <th>3</th>\n",
       "      <th>4</th>\n",
       "      <th>5</th>\n",
       "    </tr>\n",
       "  </thead>\n",
       "  <tbody>\n",
       "    <tr>\n",
       "      <th>0</th>\n",
       "      <td>0.281579</td>\n",
       "      <td>0.745929</td>\n",
       "      <td>0.091482</td>\n",
       "      <td>0.230304</td>\n",
       "      <td>0.515596</td>\n",
       "      <td>0.983407</td>\n",
       "    </tr>\n",
       "    <tr>\n",
       "      <th>1</th>\n",
       "      <td>0.955260</td>\n",
       "      <td>0.225608</td>\n",
       "      <td>0.162524</td>\n",
       "      <td>0.267794</td>\n",
       "      <td>0.532134</td>\n",
       "      <td>0.308723</td>\n",
       "    </tr>\n",
       "    <tr>\n",
       "      <th>2</th>\n",
       "      <td>0.433198</td>\n",
       "      <td>0.418266</td>\n",
       "      <td>0.828768</td>\n",
       "      <td>0.627571</td>\n",
       "      <td>0.148272</td>\n",
       "      <td>0.493987</td>\n",
       "    </tr>\n",
       "    <tr>\n",
       "      <th>3</th>\n",
       "      <td>0.248422</td>\n",
       "      <td>0.315797</td>\n",
       "      <td>0.659409</td>\n",
       "      <td>0.837771</td>\n",
       "      <td>0.646241</td>\n",
       "      <td>0.262893</td>\n",
       "    </tr>\n",
       "    <tr>\n",
       "      <th>4</th>\n",
       "      <td>0.974662</td>\n",
       "      <td>0.403363</td>\n",
       "      <td>0.375513</td>\n",
       "      <td>0.579729</td>\n",
       "      <td>0.576635</td>\n",
       "      <td>0.885919</td>\n",
       "    </tr>\n",
       "    <tr>\n",
       "      <th>5</th>\n",
       "      <td>0.736637</td>\n",
       "      <td>0.956998</td>\n",
       "      <td>0.620405</td>\n",
       "      <td>0.275915</td>\n",
       "      <td>0.854027</td>\n",
       "      <td>0.566321</td>\n",
       "    </tr>\n",
       "  </tbody>\n",
       "</table>\n",
       "</div>"
      ],
      "text/plain": [
       "          0         1         2         3         4         5\n",
       "0  0.281579  0.745929  0.091482  0.230304  0.515596  0.983407\n",
       "1  0.955260  0.225608  0.162524  0.267794  0.532134  0.308723\n",
       "2  0.433198  0.418266  0.828768  0.627571  0.148272  0.493987\n",
       "3  0.248422  0.315797  0.659409  0.837771  0.646241  0.262893\n",
       "4  0.974662  0.403363  0.375513  0.579729  0.576635  0.885919\n",
       "5  0.736637  0.956998  0.620405  0.275915  0.854027  0.566321"
      ]
     },
     "execution_count": 48,
     "metadata": {},
     "output_type": "execute_result"
    }
   ],
   "source": [
    "pd.DataFrame(df1)"
   ]
  },
  {
   "cell_type": "code",
   "execution_count": 61,
   "id": "65244cad-0e5f-45dc-93a6-72a609169f36",
   "metadata": {},
   "outputs": [],
   "source": [
    "d1=df1[[1,2]]"
   ]
  },
  {
   "cell_type": "code",
   "execution_count": 62,
   "id": "1f4c692c-cb9d-4bd5-9bba-02222fb334d2",
   "metadata": {},
   "outputs": [
    {
     "data": {
      "text/html": [
       "<div>\n",
       "<style scoped>\n",
       "    .dataframe tbody tr th:only-of-type {\n",
       "        vertical-align: middle;\n",
       "    }\n",
       "\n",
       "    .dataframe tbody tr th {\n",
       "        vertical-align: top;\n",
       "    }\n",
       "\n",
       "    .dataframe thead th {\n",
       "        text-align: right;\n",
       "    }\n",
       "</style>\n",
       "<table border=\"1\" class=\"dataframe\">\n",
       "  <thead>\n",
       "    <tr style=\"text-align: right;\">\n",
       "      <th></th>\n",
       "      <th>0</th>\n",
       "      <th>1</th>\n",
       "      <th>2</th>\n",
       "      <th>3</th>\n",
       "      <th>4</th>\n",
       "      <th>5</th>\n",
       "    </tr>\n",
       "  </thead>\n",
       "  <tbody>\n",
       "    <tr>\n",
       "      <th>0</th>\n",
       "      <td>0.955260</td>\n",
       "      <td>0.225608</td>\n",
       "      <td>0.162524</td>\n",
       "      <td>0.267794</td>\n",
       "      <td>0.532134</td>\n",
       "      <td>0.308723</td>\n",
       "    </tr>\n",
       "    <tr>\n",
       "      <th>1</th>\n",
       "      <td>0.433198</td>\n",
       "      <td>0.418266</td>\n",
       "      <td>0.828768</td>\n",
       "      <td>0.627571</td>\n",
       "      <td>0.148272</td>\n",
       "      <td>0.493987</td>\n",
       "    </tr>\n",
       "  </tbody>\n",
       "</table>\n",
       "</div>"
      ],
      "text/plain": [
       "          0         1         2         3         4         5\n",
       "0  0.955260  0.225608  0.162524  0.267794  0.532134  0.308723\n",
       "1  0.433198  0.418266  0.828768  0.627571  0.148272  0.493987"
      ]
     },
     "execution_count": 62,
     "metadata": {},
     "output_type": "execute_result"
    }
   ],
   "source": [
    "pd.DataFrame(d1)"
   ]
  },
  {
   "cell_type": "markdown",
   "id": "363efb4e-3e48-4d6b-89dc-14b4aa4805e0",
   "metadata": {},
   "source": [
    "Q5. Replace the data present in the second row of column, ‘column_2’ by a string variable then find the mean of column, column_2.\n",
    "\n",
    "If you are getting errors in executing it then explain why.\n",
    "\n",
    "[Hint: To replace the data use df1.loc[] and equate this to string data of your choice.]\n",
    "\n"
   ]
  },
  {
   "cell_type": "code",
   "execution_count": 6,
   "id": "c252655a-956d-4f5c-b1b9-51fbdbcbaa95",
   "metadata": {},
   "outputs": [],
   "source": [
    "columns={\"column_1\",\"column_2\",\"column_3\",\"column_4\",\"column_5\",\"column_6\"}\n",
    "indices = [1,2,3,4,5,6]\n",
    "\n",
    "\n"
   ]
  },
  {
   "cell_type": "code",
   "execution_count": 2,
   "id": "5b602b3b-5398-45ac-aee4-7a5573ed74ef",
   "metadata": {},
   "outputs": [
    {
     "data": {
      "text/plain": [
       "['column_1', 'column_2', 'column_3', 'column_4', 'column_5', 'column_6']"
      ]
     },
     "execution_count": 2,
     "metadata": {},
     "output_type": "execute_result"
    }
   ],
   "source": [
    "columns"
   ]
  },
  {
   "cell_type": "code",
   "execution_count": null,
   "id": "e0c28a30-d209-412f-b784-e0bf93fd19ad",
   "metadata": {},
   "outputs": [],
   "source": []
  },
  {
   "cell_type": "markdown",
   "id": "2d7dca9b-367a-4140-a3ab-368160e2cee0",
   "metadata": {},
   "source": [
    "Q6. What do you understand about the windows function in pandas and list the types of windows functions?\n",
    "\n"
   ]
  },
  {
   "cell_type": "markdown",
   "id": "990dd777-3334-47c9-b020-2eb43714e134",
   "metadata": {},
   "source": [
    "The window functions in Pandas are used to perform some sort of calculations across a set of rows that are interrelated with the current row. The windows functions help us to perform the aggregated calculations across various partitions or cross-sections of the data.grouping of the data which is situated in the data set, according to the instruction.\n",
    "\n",
    "List of the types of windows function.\n",
    "Rolling window: \n",
    "Weighted window:\n",
    "Expanding window:"
   ]
  },
  {
   "cell_type": "markdown",
   "id": "59c6c852-64de-43ef-acad-a644e4b330da",
   "metadata": {},
   "source": [
    "Q7. Write a code to print only the current month and year at the time of answering this question.\n",
    " [Hint: Use pandas.datetime function]\n",
    "\n"
   ]
  },
  {
   "cell_type": "code",
   "execution_count": 27,
   "id": "42148243-cc7c-4d3a-b0b8-2870ec418ca5",
   "metadata": {},
   "outputs": [
    {
     "name": "stderr",
     "output_type": "stream",
     "text": [
      "/tmp/ipykernel_102/2513644628.py:1: UserWarning: Parsing dates in DD/MM/YYYY format when dayfirst=False (the default) was specified. This may lead to inconsistently parsed dates! Specify a format to ensure consistent parsing.\n",
      "  data=pd.date_range(start=\"01-05-2023\",end=\"30-05-2023\")\n"
     ]
    }
   ],
   "source": [
    "data=pd.date_range(start=\"01-05-2023\",end=\"30-05-2023\")"
   ]
  },
  {
   "cell_type": "code",
   "execution_count": 28,
   "id": "915e31e8-8762-4435-b536-ff336d9ebb61",
   "metadata": {},
   "outputs": [
    {
     "data": {
      "text/plain": [
       "DatetimeIndex(['2023-01-05', '2023-01-06', '2023-01-07', '2023-01-08',\n",
       "               '2023-01-09', '2023-01-10', '2023-01-11', '2023-01-12',\n",
       "               '2023-01-13', '2023-01-14',\n",
       "               ...\n",
       "               '2023-05-21', '2023-05-22', '2023-05-23', '2023-05-24',\n",
       "               '2023-05-25', '2023-05-26', '2023-05-27', '2023-05-28',\n",
       "               '2023-05-29', '2023-05-30'],\n",
       "              dtype='datetime64[ns]', length=146, freq='D')"
      ]
     },
     "execution_count": 28,
     "metadata": {},
     "output_type": "execute_result"
    }
   ],
   "source": [
    "data"
   ]
  },
  {
   "cell_type": "code",
   "execution_count": 31,
   "id": "91fad2a7-94d9-45d5-b2a9-3811a3e9c966",
   "metadata": {},
   "outputs": [],
   "source": [
    "df2=pd.DataFrame(data)"
   ]
  },
  {
   "cell_type": "code",
   "execution_count": 32,
   "id": "1ad21883-4128-474c-acfa-e94da2a0c071",
   "metadata": {},
   "outputs": [
    {
     "data": {
      "text/plain": [
       "0    datetime64[ns]\n",
       "dtype: object"
      ]
     },
     "execution_count": 32,
     "metadata": {},
     "output_type": "execute_result"
    }
   ],
   "source": [
    "df2.dtypes"
   ]
  },
  {
   "cell_type": "code",
   "execution_count": 38,
   "id": "06beba65-6875-45f3-bc90-d0e67b195d61",
   "metadata": {},
   "outputs": [
    {
     "data": {
      "text/html": [
       "<div>\n",
       "<style scoped>\n",
       "    .dataframe tbody tr th:only-of-type {\n",
       "        vertical-align: middle;\n",
       "    }\n",
       "\n",
       "    .dataframe tbody tr th {\n",
       "        vertical-align: top;\n",
       "    }\n",
       "\n",
       "    .dataframe thead th {\n",
       "        text-align: right;\n",
       "    }\n",
       "</style>\n",
       "<table border=\"1\" class=\"dataframe\">\n",
       "  <thead>\n",
       "    <tr style=\"text-align: right;\">\n",
       "      <th></th>\n",
       "      <th>month</th>\n",
       "    </tr>\n",
       "  </thead>\n",
       "  <tbody>\n",
       "    <tr>\n",
       "      <th>0</th>\n",
       "      <td>2023-05-21</td>\n",
       "    </tr>\n",
       "  </tbody>\n",
       "</table>\n",
       "</div>"
      ],
      "text/plain": [
       "        month\n",
       "0  2023-05-21"
      ]
     },
     "execution_count": 38,
     "metadata": {},
     "output_type": "execute_result"
    }
   ],
   "source": [
    "pd.DataFrame({\"month\":['2023-05-21']})"
   ]
  },
  {
   "cell_type": "markdown",
   "id": "3e210f25-19d0-462d-aae5-0fb343628f7f",
   "metadata": {},
   "source": [
    "Q8. Write a Python program that takes in two dates as input (in the format YYYY-MM-DD) and calculates the difference between them in days, hours, and minutes using Pandas time delta. The program should prompt the user to enter the dates and display the result."
   ]
  },
  {
   "cell_type": "code",
   "execution_count": 3,
   "id": "5fe82801-1b92-448b-a540-af2afd8fff15",
   "metadata": {},
   "outputs": [],
   "source": [
    "import pandas as pd\n",
    "date=pd.date_range(start='2023-05-12',end='2023-05-30')"
   ]
  },
  {
   "cell_type": "code",
   "execution_count": 6,
   "id": "99edb021-9a01-4401-b83e-b937df1f7f49",
   "metadata": {},
   "outputs": [],
   "source": [
    "df3=pd.DataFrame(date)"
   ]
  },
  {
   "cell_type": "code",
   "execution_count": 16,
   "id": "0f632144-a282-4778-b594-25b2fb9c5419",
   "metadata": {},
   "outputs": [
    {
     "data": {
      "text/plain": [
       "0    datetime64[ns]\n",
       "dtype: object"
      ]
     },
     "execution_count": 16,
     "metadata": {},
     "output_type": "execute_result"
    }
   ],
   "source": [
    "df3.dtypes"
   ]
  },
  {
   "cell_type": "code",
   "execution_count": 21,
   "id": "4dd56ffc-6ede-4061-ad30-b8e4cd3f0b6e",
   "metadata": {},
   "outputs": [
    {
     "data": {
      "text/html": [
       "<div>\n",
       "<style scoped>\n",
       "    .dataframe tbody tr th:only-of-type {\n",
       "        vertical-align: middle;\n",
       "    }\n",
       "\n",
       "    .dataframe tbody tr th {\n",
       "        vertical-align: top;\n",
       "    }\n",
       "\n",
       "    .dataframe thead th {\n",
       "        text-align: right;\n",
       "    }\n",
       "</style>\n",
       "<table border=\"1\" class=\"dataframe\">\n",
       "  <thead>\n",
       "    <tr style=\"text-align: right;\">\n",
       "      <th></th>\n",
       "      <th>0</th>\n",
       "    </tr>\n",
       "  </thead>\n",
       "  <tbody>\n",
       "    <tr>\n",
       "      <th>0</th>\n",
       "      <td>2023-05-12</td>\n",
       "    </tr>\n",
       "  </tbody>\n",
       "</table>\n",
       "</div>"
      ],
      "text/plain": [
       "           0\n",
       "0 2023-05-12"
      ]
     },
     "execution_count": 21,
     "metadata": {},
     "output_type": "execute_result"
    }
   ],
   "source": [
    "df3.head(1)"
   ]
  }
 ],
 "metadata": {
  "kernelspec": {
   "display_name": "Python 3 (ipykernel)",
   "language": "python",
   "name": "python3"
  },
  "language_info": {
   "codemirror_mode": {
    "name": "ipython",
    "version": 3
   },
   "file_extension": ".py",
   "mimetype": "text/x-python",
   "name": "python",
   "nbconvert_exporter": "python",
   "pygments_lexer": "ipython3",
   "version": "3.10.8"
  }
 },
 "nbformat": 4,
 "nbformat_minor": 5
}
